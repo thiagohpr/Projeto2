{
 "cells": [
  {
   "cell_type": "code",
   "execution_count": 50,
   "metadata": {
    "scrolled": true
   },
   "outputs": [],
   "source": [
    "%matplotlib inline\n",
    "\n",
    "import matplotlib.pyplot as plt\n",
    "import pandas as pd\n",
    "import numpy as np\n",
    "from scipy import stats\n",
    "import seaborn as sns\n",
    "\n",
    "brutos = pd.read_csv('dados.csv')\n"
   ]
  },
  {
   "cell_type": "code",
   "execution_count": 51,
   "metadata": {
    "scrolled": true
   },
   "outputs": [
    {
     "data": {
      "text/html": [
       "<div>\n",
       "<style scoped>\n",
       "    .dataframe tbody tr th:only-of-type {\n",
       "        vertical-align: middle;\n",
       "    }\n",
       "\n",
       "    .dataframe tbody tr th {\n",
       "        vertical-align: top;\n",
       "    }\n",
       "\n",
       "    .dataframe thead th {\n",
       "        text-align: right;\n",
       "    }\n",
       "</style>\n",
       "<table border=\"1\" class=\"dataframe\">\n",
       "  <thead>\n",
       "    <tr style=\"text-align: right;\">\n",
       "      <th></th>\n",
       "      <th>Year</th>\n",
       "      <th>Leading Cause</th>\n",
       "      <th>Sex</th>\n",
       "      <th>Race Ethnicity</th>\n",
       "      <th>Deaths</th>\n",
       "      <th>Death Rate</th>\n",
       "      <th>Age Adjusted Death Rate</th>\n",
       "    </tr>\n",
       "  </thead>\n",
       "  <tbody>\n",
       "    <tr>\n",
       "      <td>0</td>\n",
       "      <td>2010</td>\n",
       "      <td>Influenza (Flu) and Pneumonia (J09-J18)</td>\n",
       "      <td>F</td>\n",
       "      <td>Hispanic</td>\n",
       "      <td>228</td>\n",
       "      <td>18.7</td>\n",
       "      <td>23.1</td>\n",
       "    </tr>\n",
       "    <tr>\n",
       "      <td>1</td>\n",
       "      <td>2008</td>\n",
       "      <td>Accidents Except Drug Posioning (V01-X39, X43,...</td>\n",
       "      <td>F</td>\n",
       "      <td>Hispanic</td>\n",
       "      <td>68</td>\n",
       "      <td>5.8</td>\n",
       "      <td>6.6</td>\n",
       "    </tr>\n",
       "    <tr>\n",
       "      <td>2</td>\n",
       "      <td>2013</td>\n",
       "      <td>Accidents Except Drug Posioning (V01-X39, X43,...</td>\n",
       "      <td>M</td>\n",
       "      <td>White Non-Hispanic</td>\n",
       "      <td>271</td>\n",
       "      <td>20.1</td>\n",
       "      <td>17.9</td>\n",
       "    </tr>\n",
       "    <tr>\n",
       "      <td>3</td>\n",
       "      <td>2010</td>\n",
       "      <td>Cerebrovascular Disease (Stroke: I60-I69)</td>\n",
       "      <td>M</td>\n",
       "      <td>Hispanic</td>\n",
       "      <td>140</td>\n",
       "      <td>12.3</td>\n",
       "      <td>21.4</td>\n",
       "    </tr>\n",
       "    <tr>\n",
       "      <td>4</td>\n",
       "      <td>2009</td>\n",
       "      <td>Assault (Homicide: Y87.1, X85-Y09)</td>\n",
       "      <td>M</td>\n",
       "      <td>Black Non-Hispanic</td>\n",
       "      <td>255</td>\n",
       "      <td>30</td>\n",
       "      <td>30</td>\n",
       "    </tr>\n",
       "    <tr>\n",
       "      <td>...</td>\n",
       "      <td>...</td>\n",
       "      <td>...</td>\n",
       "      <td>...</td>\n",
       "      <td>...</td>\n",
       "      <td>...</td>\n",
       "      <td>...</td>\n",
       "      <td>...</td>\n",
       "    </tr>\n",
       "    <tr>\n",
       "      <td>1089</td>\n",
       "      <td>2012</td>\n",
       "      <td>Influenza (Flu) and Pneumonia (J09-J18)</td>\n",
       "      <td>F</td>\n",
       "      <td>Not Stated/Unknown</td>\n",
       "      <td>6</td>\n",
       "      <td>.</td>\n",
       "      <td>.</td>\n",
       "    </tr>\n",
       "    <tr>\n",
       "      <td>1090</td>\n",
       "      <td>2014</td>\n",
       "      <td>Accidents Except Drug Posioning (V01-X39, X43,...</td>\n",
       "      <td>F</td>\n",
       "      <td>White Non-Hispanic</td>\n",
       "      <td>169</td>\n",
       "      <td>11.9</td>\n",
       "      <td>7.4</td>\n",
       "    </tr>\n",
       "    <tr>\n",
       "      <td>1091</td>\n",
       "      <td>2009</td>\n",
       "      <td>Malignant Neoplasms (Cancer: C00-C97)</td>\n",
       "      <td>M</td>\n",
       "      <td>White Non-Hispanic</td>\n",
       "      <td>3236</td>\n",
       "      <td>240.5</td>\n",
       "      <td>205.6</td>\n",
       "    </tr>\n",
       "    <tr>\n",
       "      <td>1092</td>\n",
       "      <td>2009</td>\n",
       "      <td>Intentional Self-Harm (Suicide: X60-X84, Y87.0)</td>\n",
       "      <td>M</td>\n",
       "      <td>White Non-Hispanic</td>\n",
       "      <td>191</td>\n",
       "      <td>14.2</td>\n",
       "      <td>13</td>\n",
       "    </tr>\n",
       "    <tr>\n",
       "      <td>1093</td>\n",
       "      <td>2013</td>\n",
       "      <td>Essential Hypertension and Renal Diseases (I10...</td>\n",
       "      <td>M</td>\n",
       "      <td>Black Non-Hispanic</td>\n",
       "      <td>148</td>\n",
       "      <td>17.2</td>\n",
       "      <td>20.9</td>\n",
       "    </tr>\n",
       "  </tbody>\n",
       "</table>\n",
       "<p>1094 rows × 7 columns</p>\n",
       "</div>"
      ],
      "text/plain": [
       "      Year                                      Leading Cause Sex  \\\n",
       "0     2010            Influenza (Flu) and Pneumonia (J09-J18)   F   \n",
       "1     2008  Accidents Except Drug Posioning (V01-X39, X43,...   F   \n",
       "2     2013  Accidents Except Drug Posioning (V01-X39, X43,...   M   \n",
       "3     2010          Cerebrovascular Disease (Stroke: I60-I69)   M   \n",
       "4     2009                 Assault (Homicide: Y87.1, X85-Y09)   M   \n",
       "...    ...                                                ...  ..   \n",
       "1089  2012            Influenza (Flu) and Pneumonia (J09-J18)   F   \n",
       "1090  2014  Accidents Except Drug Posioning (V01-X39, X43,...   F   \n",
       "1091  2009              Malignant Neoplasms (Cancer: C00-C97)   M   \n",
       "1092  2009    Intentional Self-Harm (Suicide: X60-X84, Y87.0)   M   \n",
       "1093  2013  Essential Hypertension and Renal Diseases (I10...   M   \n",
       "\n",
       "          Race Ethnicity Deaths Death Rate Age Adjusted Death Rate  \n",
       "0               Hispanic    228       18.7                    23.1  \n",
       "1               Hispanic     68        5.8                     6.6  \n",
       "2     White Non-Hispanic    271       20.1                    17.9  \n",
       "3               Hispanic    140       12.3                    21.4  \n",
       "4     Black Non-Hispanic    255         30                      30  \n",
       "...                  ...    ...        ...                     ...  \n",
       "1089  Not Stated/Unknown      6          .                       .  \n",
       "1090  White Non-Hispanic    169       11.9                     7.4  \n",
       "1091  White Non-Hispanic   3236      240.5                   205.6  \n",
       "1092  White Non-Hispanic    191       14.2                      13  \n",
       "1093  Black Non-Hispanic    148       17.2                    20.9  \n",
       "\n",
       "[1094 rows x 7 columns]"
      ]
     },
     "execution_count": 51,
     "metadata": {},
     "output_type": "execute_result"
    }
   ],
   "source": [
    "brutos"
   ]
  },
  {
   "cell_type": "code",
   "execution_count": 52,
   "metadata": {},
   "outputs": [],
   "source": [
    "brutos['Leading Cause'] = brutos['Leading Cause'].astype('category')\n",
    "brutos['Leading Cause'].cat.categories=['AEDP', 'AD', 'AOC', 'AAD', 'As', 'At', 'CD', 'CCPP', 'CLDC', 'CLRD', 'CMDCA', 'DM', 'DH', 'EHRD', 'HIVD', 'IP', 'IBUN', 'ISH', 'MN', 'MBDAPOPSU', 'MBDUA', 'NNSN', 'PD', 'S', 'T', 'VH']\n",
    "\n",
    "\n",
    "def calcula_media(coluna):\n",
    "    lista=[]\n",
    "    for linha in coluna:\n",
    "        if linha!='.':\n",
    "            lista.append(float(linha))\n",
    "    return sum(lista)\n",
    "media=calcula_media(brutos['Deaths'])/len(brutos.Deaths)\n",
    "\n",
    "def binario(coluna_mortes):\n",
    "    y=[]\n",
    "    for n in coluna_mortes:\n",
    "        if n!='.':\n",
    "            n=int(n)\n",
    "            if n>=media:\n",
    "                y.append(1)\n",
    "            else:\n",
    "                y.append(0)\n",
    "        else:\n",
    "            y.append(0)\n",
    "    return y\n",
    "brutos['y']=binario(brutos.Deaths)\n"
   ]
  },
  {
   "cell_type": "code",
   "execution_count": 115,
   "metadata": {
    "scrolled": true
   },
   "outputs": [
    {
     "data": {
      "text/html": [
       "<div>\n",
       "<style scoped>\n",
       "    .dataframe tbody tr th:only-of-type {\n",
       "        vertical-align: middle;\n",
       "    }\n",
       "\n",
       "    .dataframe tbody tr th {\n",
       "        vertical-align: top;\n",
       "    }\n",
       "\n",
       "    .dataframe thead th {\n",
       "        text-align: right;\n",
       "    }\n",
       "</style>\n",
       "<table border=\"1\" class=\"dataframe\">\n",
       "  <thead>\n",
       "    <tr style=\"text-align: right;\">\n",
       "      <th></th>\n",
       "      <th>Leading Cause</th>\n",
       "      <th>Sex</th>\n",
       "      <th>Race Ethnicity</th>\n",
       "      <th>y</th>\n",
       "    </tr>\n",
       "  </thead>\n",
       "  <tbody>\n",
       "    <tr>\n",
       "      <td>0</td>\n",
       "      <td>IP</td>\n",
       "      <td>F</td>\n",
       "      <td>Hispanic</td>\n",
       "      <td>0</td>\n",
       "    </tr>\n",
       "    <tr>\n",
       "      <td>1</td>\n",
       "      <td>AEDP</td>\n",
       "      <td>F</td>\n",
       "      <td>Hispanic</td>\n",
       "      <td>0</td>\n",
       "    </tr>\n",
       "    <tr>\n",
       "      <td>2</td>\n",
       "      <td>AEDP</td>\n",
       "      <td>M</td>\n",
       "      <td>White Non-Hispanic</td>\n",
       "      <td>0</td>\n",
       "    </tr>\n",
       "    <tr>\n",
       "      <td>3</td>\n",
       "      <td>CD</td>\n",
       "      <td>M</td>\n",
       "      <td>Hispanic</td>\n",
       "      <td>0</td>\n",
       "    </tr>\n",
       "    <tr>\n",
       "      <td>4</td>\n",
       "      <td>As</td>\n",
       "      <td>M</td>\n",
       "      <td>Black Non-Hispanic</td>\n",
       "      <td>0</td>\n",
       "    </tr>\n",
       "    <tr>\n",
       "      <td>...</td>\n",
       "      <td>...</td>\n",
       "      <td>...</td>\n",
       "      <td>...</td>\n",
       "      <td>...</td>\n",
       "    </tr>\n",
       "    <tr>\n",
       "      <td>1089</td>\n",
       "      <td>IP</td>\n",
       "      <td>F</td>\n",
       "      <td>Not Stated/Unknown</td>\n",
       "      <td>0</td>\n",
       "    </tr>\n",
       "    <tr>\n",
       "      <td>1090</td>\n",
       "      <td>AEDP</td>\n",
       "      <td>F</td>\n",
       "      <td>White Non-Hispanic</td>\n",
       "      <td>0</td>\n",
       "    </tr>\n",
       "    <tr>\n",
       "      <td>1091</td>\n",
       "      <td>MN</td>\n",
       "      <td>M</td>\n",
       "      <td>White Non-Hispanic</td>\n",
       "      <td>1</td>\n",
       "    </tr>\n",
       "    <tr>\n",
       "      <td>1092</td>\n",
       "      <td>ISH</td>\n",
       "      <td>M</td>\n",
       "      <td>White Non-Hispanic</td>\n",
       "      <td>0</td>\n",
       "    </tr>\n",
       "    <tr>\n",
       "      <td>1093</td>\n",
       "      <td>EHRD</td>\n",
       "      <td>M</td>\n",
       "      <td>Black Non-Hispanic</td>\n",
       "      <td>0</td>\n",
       "    </tr>\n",
       "  </tbody>\n",
       "</table>\n",
       "<p>1094 rows × 4 columns</p>\n",
       "</div>"
      ],
      "text/plain": [
       "     Leading Cause Sex      Race Ethnicity  y\n",
       "0               IP   F            Hispanic  0\n",
       "1             AEDP   F            Hispanic  0\n",
       "2             AEDP   M  White Non-Hispanic  0\n",
       "3               CD   M            Hispanic  0\n",
       "4               As   M  Black Non-Hispanic  0\n",
       "...            ...  ..                 ... ..\n",
       "1089            IP   F  Not Stated/Unknown  0\n",
       "1090          AEDP   F  White Non-Hispanic  0\n",
       "1091            MN   M  White Non-Hispanic  1\n",
       "1092           ISH   M  White Non-Hispanic  0\n",
       "1093          EHRD   M  Black Non-Hispanic  0\n",
       "\n",
       "[1094 rows x 4 columns]"
      ]
     },
     "execution_count": 115,
     "metadata": {},
     "output_type": "execute_result"
    }
   ],
   "source": [
    "brutos=brutos.loc[:,['Leading Cause','Sex','Race Ethnicity','y']]\n",
    "brutos"
   ]
  },
  {
   "cell_type": "markdown",
   "metadata": {},
   "source": [
    "### Análise Exploratória"
   ]
  },
  {
   "cell_type": "code",
   "execution_count": 116,
   "metadata": {},
   "outputs": [
    {
     "data": {
      "image/png": "[encoded data removed]",
      "text/plain": [
       "<Figure size 432x288 with 1 Axes>"
      ]
     },
     "metadata": {
      "needs_background": "light"
     },
     "output_type": "display_data"
    }
   ],
   "source": [
    "sns.countplot(x=brutos['y'],data=brutos,palette='hls')\n",
    "plt.show()"
   ]
  },
  {
   "cell_type": "code",
   "execution_count": 117,
   "metadata": {},
   "outputs": [
    {
     "data": {
      "text/plain": [
       "0    0.805302\n",
       "1    0.194698\n",
       "Name: y, dtype: float64"
      ]
     },
     "execution_count": 117,
     "metadata": {},
     "output_type": "execute_result"
    }
   ],
   "source": [
    "brutos['y'].value_counts(normalize=True)"
   ]
  },
  {
   "cell_type": "markdown",
   "metadata": {},
   "source": [
    "80,53% dos dados reconhecem que não há um estado alarmante de mortes.<br>\n",
    "19,47% dos dados reconhecem que há um estado alarmante de mortes."
   ]
  },
  {
   "cell_type": "code",
   "execution_count": 118,
   "metadata": {
    "scrolled": true
   },
   "outputs": [
    {
     "name": "stdout",
     "output_type": "stream",
     "text": [
      "Causa:Média do y\n",
      "AD:0.521\n",
      "CD:0.056\n",
      "CLRD:0.125\n",
      "DM:0.043\n",
      "DH:0.667\n",
      "IP:0.167\n",
      "MN:0.656\n"
     ]
    }
   ],
   "source": [
    "print ('Causa:Média do y')\n",
    "for i,e in brutos.groupby('Leading Cause').mean().items():\n",
    "    for d,n in e.items():\n",
    "        if n>0:\n",
    "            print ('{}:{:.3f}'.format(d,n))"
   ]
  },
  {
   "cell_type": "markdown",
   "metadata": {},
   "source": [
    "A partir dos valores acima, é possível pereceber que dentre as 26 causas de mortes, apenas 7 possuem valores 1 em 'y'. Ou seja, 7 causas são consideradas problemáticas para o valor de 388 mortes. Dentre essas 7, 3 possuem média maior de 0,5 das linhas como valor 1, sendo elas:\n",
    "<br>\n",
    "<br>\n",
    "-Alzheimer (0,521);<br>\n",
    "-Problema no coração (0,667);<br>\n",
    "-Tumor maligno (0,656).<br>\n",
    "<br>\n",
    "Inicialmente é plausível, portanto, considerar essas 3 como as mais problemáticas causas de morte em Nova Iorque, no entanto não estamos considerando o sexo nem a etnia das pessoas."
   ]
  },
  {
   "cell_type": "code",
   "execution_count": 123,
   "metadata": {},
   "outputs": [
    {
     "name": "stdout",
     "output_type": "stream",
     "text": [
      "Etnia:Média do y\n",
      "Asian and Pacific Islander:0.186\n",
      "Black Non-Hispanic:0.292\n",
      "Hispanic:0.271\n",
      "White Non-Hispanic:0.455\n"
     ]
    }
   ],
   "source": [
    "print ('Etnia:Média do y')\n",
    "for i,e in brutos.groupby('Race Ethnicity').mean().items():\n",
    "    for d,n in e.items():\n",
    "        if n>0:\n",
    "            print ('{}:{:.3f}'.format(d,n))"
   ]
  },
  {
   "cell_type": "markdown",
   "metadata": {},
   "source": [
    "Nesse caso, os valores são masi dispersos, já que das 6 etnias, 4 possuem algum valor 1 na coluna 'y', snedo a maior média dos brancos não-hispânicos. As duas etnias que não possuem algum valor 1 são 'desconhecida' e 'outra etnia'."
   ]
  },
  {
   "cell_type": "code",
   "execution_count": null,
   "metadata": {},
   "outputs": [],
   "source": []
  },
  {
   "cell_type": "code",
   "execution_count": null,
   "metadata": {},
   "outputs": [],
   "source": []
  },
  {
   "cell_type": "code",
   "execution_count": null,
   "metadata": {},
   "outputs": [],
   "source": []
  },
  {
   "cell_type": "code",
   "execution_count": null,
   "metadata": {},
   "outputs": [],
   "source": []
  },
  {
   "cell_type": "code",
   "execution_count": null,
   "metadata": {},
   "outputs": [],
   "source": []
  },
  {
   "cell_type": "code",
   "execution_count": null,
   "metadata": {},
   "outputs": [],
   "source": []
  }
 ],
 "metadata": {
  "kernelspec": {
   "display_name": "Python 3",
   "language": "python",
   "name": "python3"
  },
  "language_info": {
   "codemirror_mode": {
    "name": "ipython",
    "version": 3
   },
   "file_extension": ".py",
   "mimetype": "text/x-python",
   "name": "python",
   "nbconvert_exporter": "python",
   "pygments_lexer": "ipython3",
   "version": "3.7.4"
  }
 },
 "nbformat": 4,
 "nbformat_minor": 2
}
